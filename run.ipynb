{
 "cells": [
  {
   "cell_type": "code",
   "execution_count": null,
   "id": "7f2335da-abd5-4101-a5c0-ee9c8595976e",
   "metadata": {
    "tags": []
   },
   "outputs": [],
   "source": [
    "import torch\n",
    "import torch.nn as nn\n",
    "import torch.optim as optim\n",
    "import numpy as np\n",
    "\n",
    "from util import *\n",
    "from model import SimpleCNN, Net\n",
    "from train_fed import train_fed\n",
    "from load_data import load_iid, load_noniid"
   ]
  },
  {
   "cell_type": "code",
   "execution_count": null,
   "id": "7a30a442-0a22-4ba5-abe0-a2151f953f8f",
   "metadata": {
    "tags": []
   },
   "outputs": [],
   "source": [
    "# Set the random seed\n",
    "seed = 42\n",
    "set_seed(seed)\n",
    "\n",
    "# Hyperparameters\n",
    "batch_size = 100\n",
    "learning_rate = 0.001\n",
    "num_models = 5"
   ]
  },
  {
   "cell_type": "code",
   "execution_count": null,
   "id": "5498defd-1e01-40b8-b007-56a4aa3c394e",
   "metadata": {
    "tags": []
   },
   "outputs": [],
   "source": [
    "train_loaders, test_loader = load_iid(batch_size, train_size=[5000,5000,5000,5000,5000]) # iid case\n",
    "# train_loaders, test_loader = load_noniid(batch_size, train_size=[5000,5000,5000,5000,5000], min_label=[0,0,0,5,5], max_label=[4,4,4,9,9]) # non-iid case"
   ]
  },
  {
   "cell_type": "code",
   "execution_count": null,
   "id": "2359e35c-ad22-4f0b-84b3-acecbc483030",
   "metadata": {},
   "outputs": [],
   "source": [
    "def build_model():\n",
    "    return Net()       # Net() is the large CNN, SimpleCNN() is the small CNN.\n",
    "net = build_model()\n",
    "print('total parameters = ', count_parameters(net))\n",
    "print(count_detailed_parameters(net))"
   ]
  },
  {
   "cell_type": "code",
   "execution_count": null,
   "id": "945bdc06-f04d-4a61-9085-424c53cf2eed",
   "metadata": {},
   "outputs": [],
   "source": [
    "# Check if GPU is available\n",
    "device = torch.device(\"cuda:0\" if torch.cuda.is_available() else \"cpu\")\n",
    "print(\"Using device:\", device)\n",
    "\n",
    "def run_fed(num_epochs, top_percent, local_buffer=True, global_buffer=True):\n",
    "    local_models = [build_model().to(device) for _ in range(num_models)]\n",
    "    global_model = build_model().to(device)\n",
    "    optimizers = [optim.Adam(local_models[i].parameters(), lr=learning_rate) for i in range(num_models)]\n",
    "    criterions = [nn.CrossEntropyLoss() for _ in range(num_models)]\n",
    "    test_acc = train_fed(device, num_epochs, top_percent, train_loaders, test_loader, optimizers, criterions, local_models, global_model, local_buffer, global_buffer)\n",
    "    return test_acc"
   ]
  },
  {
   "cell_type": "code",
   "execution_count": null,
   "id": "67994b3b-02a7-4552-a203-023670c40782",
   "metadata": {
    "tags": []
   },
   "outputs": [],
   "source": [
    "test_acc1 = run_fed(num_epochs = 5, top_percent = 1, local_buffer=False, global_buffer=False)  # top_percent = 1 means no filter"
   ]
  },
  {
   "cell_type": "code",
   "execution_count": null,
   "id": "aebac514-2767-49e3-9e4d-16b4c64798fe",
   "metadata": {
    "tags": []
   },
   "outputs": [],
   "source": [
    "test_acc2 = run_fed(num_epochs = 5, top_percent = 1, local_buffer=True, global_buffer=True)"
   ]
  },
  {
   "cell_type": "code",
   "execution_count": null,
   "id": "47a9d202-ecae-4245-8c00-59d08c9f6ed6",
   "metadata": {},
   "outputs": [],
   "source": [
    "test_acc3 = run_fed(num_epochs = 50, top_percent = 0.1, local_buffer=False, global_buffer=False)"
   ]
  },
  {
   "cell_type": "code",
   "execution_count": null,
   "id": "8fd09999-c57c-4e3a-ab3b-840a99a5ea01",
   "metadata": {},
   "outputs": [],
   "source": [
    "test_acc4 = run_fed(num_epochs = 50, top_percent = 0.1, local_buffer=True, global_buffer=False)"
   ]
  },
  {
   "cell_type": "code",
   "execution_count": null,
   "id": "a2214f98-dd49-413a-bd76-9753a359e5af",
   "metadata": {},
   "outputs": [],
   "source": [
    "test_acc5 = run_fed(num_epochs = 50, top_percent = 0.1, local_buffer=False, global_buffer=True)"
   ]
  },
  {
   "cell_type": "code",
   "execution_count": null,
   "id": "475a3b6c-7e84-4e67-9446-9ba13c95286c",
   "metadata": {
    "tags": []
   },
   "outputs": [],
   "source": [
    "test_acc6 = run_fed(num_epochs = 50, top_percent = 0.1, local_buffer=True, global_buffer=True)"
   ]
  },
  {
   "cell_type": "code",
   "execution_count": null,
   "id": "84d4bc0b-5de4-456b-a0ef-5944a8ff572f",
   "metadata": {},
   "outputs": [],
   "source": [
    "np.savez('LargeModel_iid.npz', test_acc1=test_acc1, test_acc2=test_acc2, test_acc3=test_acc3, test_acc4=test_acc4, test_acc5=test_acc5, test_acc6=test_acc6)"
   ]
  },
  {
   "cell_type": "code",
   "execution_count": null,
   "id": "a29335d7-144c-46ed-85c8-177794e34eb4",
   "metadata": {
    "tags": []
   },
   "outputs": [],
   "source": [
    "import numpy as np\n",
    "import matplotlib.pyplot as plt\n",
    "\n",
    "loaded_arrays = np.load('LargeModel_iid.npz')\n",
    "test_acc1=loaded_arrays['test_acc1']\n",
    "test_acc2=loaded_arrays['test_acc2']\n",
    "test_acc3=loaded_arrays['test_acc3']\n",
    "test_acc4=loaded_arrays['test_acc4']\n",
    "test_acc5=loaded_arrays['test_acc5']\n",
    "test_acc6=loaded_arrays['test_acc6']\n",
    "\n",
    "x0 = np.linspace(0, 10, 5)\n",
    "x = np.linspace(0, 10, 50)\n",
    "\n",
    "# Create a figure and axis\n",
    "fig, ax = plt.subplots(figsize=(8,6),dpi=150)\n",
    "\n",
    "# Plot the curves\n",
    "ax.plot(x0, test_acc1, label='fed')\n",
    "ax.plot(x0, test_acc2, label='fed+buffer')\n",
    "ax.plot(x, test_acc3, label='fed+filter')\n",
    "#ax.plot(x, test_acc4, label='fed+filter+localbuffer')\n",
    "#ax.plot(x, test_acc5, label='fed+filter+globalbuffer')\n",
    "ax.plot(x, test_acc6, label='fed+filter+buffer')\n",
    "\n",
    "# Set axis labels\n",
    "ax.set_xlabel('communication cost')\n",
    "ax.set_ylabel('accuracy %')\n",
    "\n",
    "# Set the plot title\n",
    "ax.set_title('IID, 5 Local Models, Large CNN')\n",
    "\n",
    "# Add a legend\n",
    "ax.legend()\n",
    "\n",
    "# Show the plot\n",
    "plt.show()"
   ]
  },
  {
   "cell_type": "code",
   "execution_count": null,
   "id": "a1885c06-c3a5-407c-a8c7-745ed47aba63",
   "metadata": {},
   "outputs": [],
   "source": []
  }
 ],
 "metadata": {
  "kernelspec": {
   "display_name": "Python 3 (ipykernel)",
   "language": "python",
   "name": "python3"
  },
  "language_info": {
   "codemirror_mode": {
    "name": "ipython",
    "version": 3
   },
   "file_extension": ".py",
   "mimetype": "text/x-python",
   "name": "python",
   "nbconvert_exporter": "python",
   "pygments_lexer": "ipython3",
   "version": "3.8.10"
  }
 },
 "nbformat": 4,
 "nbformat_minor": 5
}
